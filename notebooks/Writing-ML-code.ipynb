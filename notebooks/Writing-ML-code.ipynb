{
 "cells": [
  {
   "cell_type": "markdown",
   "metadata": {},
   "source": [
    "# Planning writing and excuting ML experiment"
   ]
  },
  {
   "cell_type": "markdown",
   "metadata": {},
   "source": [
    "## Problem\n",
    "\n",
    "The objective of this lab work is to accurately predict whether a student will drop out or not. \n",
    "\n",
    "## Metric\n",
    "The performance measure that will be used to judge will be the F1 measure.\n",
    "The evaluation metric for this lab work is Mean F1-Score. The F1 score can be interpreted as a weighted average of the precision and recall, where an F1 score reaches its best value at 1 and worst score at 0. The F1 metric weights recall and precision equally, and a good retrieval algorithm will maximize both precision and recall simultaneously. Thus, moderately good performance on both will be favoured over extremely good performance on one and poor performance on the other.. The formula for the F1 score is:\n",
    "\n",
    "F1 = 2 * (precision * recall) / (precision + recall)\n",
    "\n",
    "## Data description\n",
    "The data has been split into two groups:\n",
    "\n",
    "- training set (train_data_week_1_challenge.csv)\n",
    "- test set (test_data_week_1_challenge.csv)\n",
    "\n",
    "The training set should be used to build your machine learning models. For the training set, we provide the outcome (also known as the “ground truth”) for each student. Your model will be based on “features” like gender, caste   mathematics marks etc. You can also use feature engineering to create new features.\n",
    "\n",
    "The test set should be used to see how well your model performs on unseen data.For each student in the test set, use the model you trained to predict whether or not they drop.\n",
    "\n"
   ]
  },
  {
   "cell_type": "markdown",
   "metadata": {},
   "source": [
    "### Key issues\n",
    "\n",
    "1. Understand your problem \n",
    "2. Understand your data\n",
    "3. Write readable and reusable code\n",
    "4. Use arg parse and logging module\n",
    "5. Choose appropriate metric for your problem"
   ]
  },
  {
   "cell_type": "code",
   "execution_count": 105,
   "metadata": {
    "ExecuteTime": {
     "end_time": "2019-04-08T07:00:13.605544Z",
     "start_time": "2019-04-08T07:00:13.577943Z"
    }
   },
   "outputs": [],
   "source": [
    "# import important modules \n",
    "import matplotlib.pyplot as plt\n",
    "from IPython import display\n",
    "from matplotlib import pyplot as plt\n",
    "from matplotlib import rc, rcParams\n",
    "from cycler import cycler\n",
    "import numpy as np\n",
    "import pandas as pd\n",
    "import seaborn as sns\n",
    "import math\n",
    "from sklearn import preprocessing\n",
    "%matplotlib inline\n",
    "\n",
    "np.random.seed(7) \n",
    "import warnings ## importing warnings library. \n",
    "warnings.filterwarnings('ignore') ## Ignore warning "
   ]
  },
  {
   "cell_type": "markdown",
   "metadata": {},
   "source": [
    "### Load and process data"
   ]
  },
  {
   "cell_type": "code",
   "execution_count": 106,
   "metadata": {
    "ExecuteTime": {
     "end_time": "2019-04-08T07:00:16.855225Z",
     "start_time": "2019-04-08T07:00:16.682215Z"
    }
   },
   "outputs": [],
   "source": [
    "data = pd.read_csv(\"../data/train.csv\") \n"
   ]
  },
  {
   "cell_type": "code",
   "execution_count": 107,
   "metadata": {
    "ExecuteTime": {
     "end_time": "2019-04-08T07:00:17.572266Z",
     "start_time": "2019-04-08T07:00:17.554265Z"
    }
   },
   "outputs": [
    {
     "data": {
      "text/html": [
       "<div>\n",
       "<style scoped>\n",
       "    .dataframe tbody tr th:only-of-type {\n",
       "        vertical-align: middle;\n",
       "    }\n",
       "\n",
       "    .dataframe tbody tr th {\n",
       "        vertical-align: top;\n",
       "    }\n",
       "\n",
       "    .dataframe thead th {\n",
       "        text-align: right;\n",
       "    }\n",
       "</style>\n",
       "<table border=\"1\" class=\"dataframe\">\n",
       "  <thead>\n",
       "    <tr style=\"text-align: right;\">\n",
       "      <th></th>\n",
       "      <th>continue_drop</th>\n",
       "      <th>student_id</th>\n",
       "      <th>gender</th>\n",
       "      <th>caste</th>\n",
       "      <th>mathematics_marks</th>\n",
       "      <th>english_marks</th>\n",
       "      <th>science_marks</th>\n",
       "      <th>science_teacher</th>\n",
       "      <th>languages_teacher</th>\n",
       "      <th>guardian</th>\n",
       "      <th>internet</th>\n",
       "      <th>school_id</th>\n",
       "      <th>total_students</th>\n",
       "      <th>total_toilets</th>\n",
       "      <th>establishment_year</th>\n",
       "    </tr>\n",
       "  </thead>\n",
       "  <tbody>\n",
       "    <tr>\n",
       "      <th>0</th>\n",
       "      <td>continue</td>\n",
       "      <td>s17477</td>\n",
       "      <td>M</td>\n",
       "      <td>BC</td>\n",
       "      <td>0.393</td>\n",
       "      <td>0.338</td>\n",
       "      <td>0.393</td>\n",
       "      <td>2</td>\n",
       "      <td>2</td>\n",
       "      <td>mother</td>\n",
       "      <td>True</td>\n",
       "      <td>362</td>\n",
       "      <td>397</td>\n",
       "      <td>5.0</td>\n",
       "      <td>1950.0</td>\n",
       "    </tr>\n",
       "    <tr>\n",
       "      <th>1</th>\n",
       "      <td>continue</td>\n",
       "      <td>s16612</td>\n",
       "      <td>M</td>\n",
       "      <td>SC</td>\n",
       "      <td>0.745</td>\n",
       "      <td>0.645</td>\n",
       "      <td>0.745</td>\n",
       "      <td>4</td>\n",
       "      <td>3</td>\n",
       "      <td>father</td>\n",
       "      <td>True</td>\n",
       "      <td>357</td>\n",
       "      <td>57</td>\n",
       "      <td>14.0</td>\n",
       "      <td>1929.0</td>\n",
       "    </tr>\n",
       "    <tr>\n",
       "      <th>2</th>\n",
       "      <td>continue</td>\n",
       "      <td>s04010</td>\n",
       "      <td>M</td>\n",
       "      <td>BC</td>\n",
       "      <td>0.788</td>\n",
       "      <td>0.655</td>\n",
       "      <td>0.788</td>\n",
       "      <td>8</td>\n",
       "      <td>9</td>\n",
       "      <td>father</td>\n",
       "      <td>True</td>\n",
       "      <td>340</td>\n",
       "      <td>134</td>\n",
       "      <td>15.0</td>\n",
       "      <td>1976.0</td>\n",
       "    </tr>\n",
       "    <tr>\n",
       "      <th>3</th>\n",
       "      <td>drop</td>\n",
       "      <td>s11124</td>\n",
       "      <td>F</td>\n",
       "      <td>BC</td>\n",
       "      <td>0.623</td>\n",
       "      <td>0.699</td>\n",
       "      <td>0.623</td>\n",
       "      <td>6</td>\n",
       "      <td>0</td>\n",
       "      <td>father</td>\n",
       "      <td>True</td>\n",
       "      <td>345</td>\n",
       "      <td>143</td>\n",
       "      <td>28.0</td>\n",
       "      <td>1879.0</td>\n",
       "    </tr>\n",
       "    <tr>\n",
       "      <th>4</th>\n",
       "      <td>continue</td>\n",
       "      <td>s04384</td>\n",
       "      <td>M</td>\n",
       "      <td>SC</td>\n",
       "      <td>0.951</td>\n",
       "      <td>0.704</td>\n",
       "      <td>0.951</td>\n",
       "      <td>8</td>\n",
       "      <td>4</td>\n",
       "      <td>mother</td>\n",
       "      <td>True</td>\n",
       "      <td>304</td>\n",
       "      <td>390</td>\n",
       "      <td>28.0</td>\n",
       "      <td>1914.0</td>\n",
       "    </tr>\n",
       "  </tbody>\n",
       "</table>\n",
       "</div>"
      ],
      "text/plain": [
       "  continue_drop student_id gender caste  mathematics_marks  english_marks  \\\n",
       "0      continue     s17477      M    BC              0.393          0.338   \n",
       "1      continue     s16612      M    SC              0.745          0.645   \n",
       "2      continue     s04010      M    BC              0.788          0.655   \n",
       "3          drop     s11124      F    BC              0.623          0.699   \n",
       "4      continue     s04384      M    SC              0.951          0.704   \n",
       "\n",
       "   science_marks  science_teacher  languages_teacher guardian  internet  \\\n",
       "0          0.393                2                  2   mother      True   \n",
       "1          0.745                4                  3   father      True   \n",
       "2          0.788                8                  9   father      True   \n",
       "3          0.623                6                  0   father      True   \n",
       "4          0.951                8                  4   mother      True   \n",
       "\n",
       "   school_id  total_students  total_toilets  establishment_year  \n",
       "0        362             397            5.0              1950.0  \n",
       "1        357              57           14.0              1929.0  \n",
       "2        340             134           15.0              1976.0  \n",
       "3        345             143           28.0              1879.0  \n",
       "4        304             390           28.0              1914.0  "
      ]
     },
     "execution_count": 107,
     "metadata": {},
     "output_type": "execute_result"
    }
   ],
   "source": [
    "# show the first five rows\n",
    "data.head() "
   ]
  },
  {
   "cell_type": "code",
   "execution_count": 108,
   "metadata": {
    "ExecuteTime": {
     "end_time": "2019-04-08T07:00:18.919106Z",
     "start_time": "2019-04-08T07:00:18.898506Z"
    }
   },
   "outputs": [
    {
     "data": {
      "text/plain": [
       "Index(['continue_drop', 'student_id', 'gender', 'caste', 'mathematics_marks',\n",
       "       'english_marks', 'science_marks', 'science_teacher',\n",
       "       'languages_teacher', 'guardian', 'internet', 'school_id',\n",
       "       'total_students', 'total_toilets', 'establishment_year'],\n",
       "      dtype='object')"
      ]
     },
     "execution_count": 108,
     "metadata": {},
     "output_type": "execute_result"
    }
   ],
   "source": [
    "#show list of column\n",
    "data.columns "
   ]
  },
  {
   "cell_type": "code",
   "execution_count": 109,
   "metadata": {
    "ExecuteTime": {
     "end_time": "2019-04-08T07:00:20.748547Z",
     "start_time": "2019-04-08T07:00:20.717545Z"
    }
   },
   "outputs": [
    {
     "name": "stdout",
     "output_type": "stream",
     "text": [
      "<class 'pandas.core.frame.DataFrame'>\n",
      "RangeIndex: 17190 entries, 0 to 17189\n",
      "Data columns (total 15 columns):\n",
      "continue_drop         17190 non-null object\n",
      "student_id            17190 non-null object\n",
      "gender                17190 non-null object\n",
      "caste                 17190 non-null object\n",
      "mathematics_marks     17190 non-null float64\n",
      "english_marks         17190 non-null float64\n",
      "science_marks         17190 non-null float64\n",
      "science_teacher       17190 non-null int64\n",
      "languages_teacher     17190 non-null int64\n",
      "guardian              17190 non-null object\n",
      "internet              17190 non-null bool\n",
      "school_id             17190 non-null int64\n",
      "total_students        17190 non-null int64\n",
      "total_toilets         16881 non-null float64\n",
      "establishment_year    16881 non-null float64\n",
      "dtypes: bool(1), float64(5), int64(4), object(5)\n",
      "memory usage: 1.9+ MB\n"
     ]
    }
   ],
   "source": [
    "# show data information  \n",
    "data.info() "
   ]
  },
  {
   "cell_type": "markdown",
   "metadata": {},
   "source": [
    "We have some object types columns"
   ]
  },
  {
   "cell_type": "code",
   "execution_count": 110,
   "metadata": {
    "ExecuteTime": {
     "end_time": "2019-04-08T07:00:27.338807Z",
     "start_time": "2019-04-08T07:00:27.322806Z"
    }
   },
   "outputs": [
    {
     "data": {
      "text/plain": [
       "(17190, 15)"
      ]
     },
     "execution_count": 110,
     "metadata": {},
     "output_type": "execute_result"
    }
   ],
   "source": [
    "# check the shape of the data\n",
    "data.shape "
   ]
  },
  {
   "cell_type": "code",
   "execution_count": 111,
   "metadata": {
    "ExecuteTime": {
     "end_time": "2019-04-08T07:00:37.822216Z",
     "start_time": "2019-04-08T07:00:37.781015Z"
    }
   },
   "outputs": [
    {
     "data": {
      "text/plain": [
       "continue_drop         0.000000\n",
       "student_id            0.000000\n",
       "gender                0.000000\n",
       "caste                 0.000000\n",
       "mathematics_marks     0.000000\n",
       "english_marks         0.000000\n",
       "science_marks         0.000000\n",
       "science_teacher       0.000000\n",
       "languages_teacher     0.000000\n",
       "guardian              0.000000\n",
       "internet              0.000000\n",
       "school_id             0.000000\n",
       "total_students        0.000000\n",
       "total_toilets         1.797557\n",
       "establishment_year    1.797557\n",
       "dtype: float64"
      ]
     },
     "execution_count": 111,
     "metadata": {},
     "output_type": "execute_result"
    }
   ],
   "source": [
    "## Check for missing values \n",
    "data.isnull().sum()*100/data.shape[0]  "
   ]
  },
  {
   "cell_type": "markdown",
   "metadata": {},
   "source": [
    " One percent of data is missing in  total toilets and establishment year columns. Let ignore these columns by addding the following line in the load data function. We will also delete the student id column\n",
    " \n",
    " ```python\n",
    "    data.drop(['total_toilets','establishment_year', 'student_id', 'school_id'], axis=1, inplace=True)\n",
    "```"
   ]
  },
  {
   "cell_type": "code",
   "execution_count": 112,
   "metadata": {
    "ExecuteTime": {
     "end_time": "2019-04-08T07:00:43.010115Z",
     "start_time": "2019-04-08T07:00:43.001115Z"
    }
   },
   "outputs": [],
   "source": [
    "data.drop(['total_toilets','establishment_year'], axis=1, inplace=True)  "
   ]
  },
  {
   "cell_type": "code",
   "execution_count": 113,
   "metadata": {
    "ExecuteTime": {
     "end_time": "2019-04-08T07:00:46.632447Z",
     "start_time": "2019-04-08T07:00:46.588246Z"
    }
   },
   "outputs": [
    {
     "data": {
      "text/html": [
       "<div>\n",
       "<style scoped>\n",
       "    .dataframe tbody tr th:only-of-type {\n",
       "        vertical-align: middle;\n",
       "    }\n",
       "\n",
       "    .dataframe tbody tr th {\n",
       "        vertical-align: top;\n",
       "    }\n",
       "\n",
       "    .dataframe thead th {\n",
       "        text-align: right;\n",
       "    }\n",
       "</style>\n",
       "<table border=\"1\" class=\"dataframe\">\n",
       "  <thead>\n",
       "    <tr style=\"text-align: right;\">\n",
       "      <th></th>\n",
       "      <th>continue_drop</th>\n",
       "      <th>student_id</th>\n",
       "      <th>gender</th>\n",
       "      <th>caste</th>\n",
       "      <th>mathematics_marks</th>\n",
       "      <th>english_marks</th>\n",
       "      <th>science_marks</th>\n",
       "      <th>science_teacher</th>\n",
       "      <th>languages_teacher</th>\n",
       "      <th>guardian</th>\n",
       "      <th>internet</th>\n",
       "      <th>school_id</th>\n",
       "      <th>total_students</th>\n",
       "    </tr>\n",
       "  </thead>\n",
       "  <tbody>\n",
       "    <tr>\n",
       "      <th>12788</th>\n",
       "      <td>continue</td>\n",
       "      <td>s09804</td>\n",
       "      <td>M</td>\n",
       "      <td>OC</td>\n",
       "      <td>0.214</td>\n",
       "      <td>0.684</td>\n",
       "      <td>0.214</td>\n",
       "      <td>4</td>\n",
       "      <td>3</td>\n",
       "      <td>mixed</td>\n",
       "      <td>True</td>\n",
       "      <td>369</td>\n",
       "      <td>387</td>\n",
       "    </tr>\n",
       "    <tr>\n",
       "      <th>509</th>\n",
       "      <td>continue</td>\n",
       "      <td>s15046</td>\n",
       "      <td>F</td>\n",
       "      <td>SC</td>\n",
       "      <td>0.332</td>\n",
       "      <td>0.289</td>\n",
       "      <td>0.332</td>\n",
       "      <td>5</td>\n",
       "      <td>10</td>\n",
       "      <td>mother</td>\n",
       "      <td>True</td>\n",
       "      <td>323</td>\n",
       "      <td>344</td>\n",
       "    </tr>\n",
       "    <tr>\n",
       "      <th>1222</th>\n",
       "      <td>continue</td>\n",
       "      <td>s14142</td>\n",
       "      <td>F</td>\n",
       "      <td>OC</td>\n",
       "      <td>0.480</td>\n",
       "      <td>0.457</td>\n",
       "      <td>0.480</td>\n",
       "      <td>2</td>\n",
       "      <td>9</td>\n",
       "      <td>mother</td>\n",
       "      <td>True</td>\n",
       "      <td>359</td>\n",
       "      <td>305</td>\n",
       "    </tr>\n",
       "    <tr>\n",
       "      <th>9545</th>\n",
       "      <td>continue</td>\n",
       "      <td>s17262</td>\n",
       "      <td>F</td>\n",
       "      <td>BC</td>\n",
       "      <td>0.390</td>\n",
       "      <td>0.511</td>\n",
       "      <td>0.390</td>\n",
       "      <td>4</td>\n",
       "      <td>10</td>\n",
       "      <td>mother</td>\n",
       "      <td>True</td>\n",
       "      <td>390</td>\n",
       "      <td>140</td>\n",
       "    </tr>\n",
       "    <tr>\n",
       "      <th>3528</th>\n",
       "      <td>continue</td>\n",
       "      <td>s00039</td>\n",
       "      <td>F</td>\n",
       "      <td>ST</td>\n",
       "      <td>0.563</td>\n",
       "      <td>0.626</td>\n",
       "      <td>0.563</td>\n",
       "      <td>2</td>\n",
       "      <td>6</td>\n",
       "      <td>mother</td>\n",
       "      <td>True</td>\n",
       "      <td>397</td>\n",
       "      <td>221</td>\n",
       "    </tr>\n",
       "  </tbody>\n",
       "</table>\n",
       "</div>"
      ],
      "text/plain": [
       "      continue_drop student_id gender caste  mathematics_marks  english_marks  \\\n",
       "12788      continue     s09804      M    OC              0.214          0.684   \n",
       "509        continue     s15046      F    SC              0.332          0.289   \n",
       "1222       continue     s14142      F    OC              0.480          0.457   \n",
       "9545       continue     s17262      F    BC              0.390          0.511   \n",
       "3528       continue     s00039      F    ST              0.563          0.626   \n",
       "\n",
       "       science_marks  science_teacher  languages_teacher guardian  internet  \\\n",
       "12788          0.214                4                  3    mixed      True   \n",
       "509            0.332                5                 10   mother      True   \n",
       "1222           0.480                2                  9   mother      True   \n",
       "9545           0.390                4                 10   mother      True   \n",
       "3528           0.563                2                  6   mother      True   \n",
       "\n",
       "       school_id  total_students  \n",
       "12788        369             387  \n",
       "509          323             344  \n",
       "1222         359             305  \n",
       "9545         390             140  \n",
       "3528         397             221  "
      ]
     },
     "execution_count": 113,
     "metadata": {},
     "output_type": "execute_result"
    }
   ],
   "source": [
    "# check again your data\n",
    "data.sample(5) "
   ]
  },
  {
   "cell_type": "markdown",
   "metadata": {},
   "source": [
    "Drop School_id and student_id columns "
   ]
  },
  {
   "cell_type": "code",
   "execution_count": 114,
   "metadata": {
    "ExecuteTime": {
     "end_time": "2019-04-08T07:00:54.672074Z",
     "start_time": "2019-04-08T07:00:54.648474Z"
    }
   },
   "outputs": [],
   "source": [
    "data.drop(['student_id','school_id'], axis=1, inplace=True)   "
   ]
  },
  {
   "cell_type": "code",
   "execution_count": 115,
   "metadata": {
    "ExecuteTime": {
     "end_time": "2019-04-08T07:00:55.298106Z",
     "start_time": "2019-04-08T07:00:55.266906Z"
    }
   },
   "outputs": [
    {
     "data": {
      "text/plain": [
       "(17190, 11)"
      ]
     },
     "execution_count": 115,
     "metadata": {},
     "output_type": "execute_result"
    }
   ],
   "source": [
    "# check shape again\n",
    "data.shape  "
   ]
  },
  {
   "cell_type": "code",
   "execution_count": 116,
   "metadata": {
    "ExecuteTime": {
     "end_time": "2019-04-08T07:01:00.096643Z",
     "start_time": "2019-04-08T07:01:00.066042Z"
    }
   },
   "outputs": [],
   "source": [
    "# convert object types into integer types \n",
    "le = preprocessing.LabelEncoder()\n",
    "data['gender'] = le.fit_transform(data['gender'])\n",
    "data['guardian'] = le.fit_transform(data['guardian'])\n",
    "data['internet'] = le.fit_transform(data['internet'])\n",
    "data['caste']  = le.fit_transform(data['caste'])\n",
    "data['continue_drop']= le.fit_transform( data['continue_drop']) "
   ]
  },
  {
   "cell_type": "code",
   "execution_count": 117,
   "metadata": {
    "ExecuteTime": {
     "end_time": "2019-04-08T07:01:00.554669Z",
     "start_time": "2019-04-08T07:01:00.534668Z"
    }
   },
   "outputs": [
    {
     "data": {
      "text/html": [
       "<div>\n",
       "<style scoped>\n",
       "    .dataframe tbody tr th:only-of-type {\n",
       "        vertical-align: middle;\n",
       "    }\n",
       "\n",
       "    .dataframe tbody tr th {\n",
       "        vertical-align: top;\n",
       "    }\n",
       "\n",
       "    .dataframe thead th {\n",
       "        text-align: right;\n",
       "    }\n",
       "</style>\n",
       "<table border=\"1\" class=\"dataframe\">\n",
       "  <thead>\n",
       "    <tr style=\"text-align: right;\">\n",
       "      <th></th>\n",
       "      <th>continue_drop</th>\n",
       "      <th>gender</th>\n",
       "      <th>caste</th>\n",
       "      <th>mathematics_marks</th>\n",
       "      <th>english_marks</th>\n",
       "      <th>science_marks</th>\n",
       "      <th>science_teacher</th>\n",
       "      <th>languages_teacher</th>\n",
       "      <th>guardian</th>\n",
       "      <th>internet</th>\n",
       "      <th>total_students</th>\n",
       "    </tr>\n",
       "  </thead>\n",
       "  <tbody>\n",
       "    <tr>\n",
       "      <th>0</th>\n",
       "      <td>0</td>\n",
       "      <td>1</td>\n",
       "      <td>0</td>\n",
       "      <td>0.393</td>\n",
       "      <td>0.338</td>\n",
       "      <td>0.393</td>\n",
       "      <td>2</td>\n",
       "      <td>2</td>\n",
       "      <td>2</td>\n",
       "      <td>1</td>\n",
       "      <td>397</td>\n",
       "    </tr>\n",
       "    <tr>\n",
       "      <th>1</th>\n",
       "      <td>0</td>\n",
       "      <td>1</td>\n",
       "      <td>2</td>\n",
       "      <td>0.745</td>\n",
       "      <td>0.645</td>\n",
       "      <td>0.745</td>\n",
       "      <td>4</td>\n",
       "      <td>3</td>\n",
       "      <td>0</td>\n",
       "      <td>1</td>\n",
       "      <td>57</td>\n",
       "    </tr>\n",
       "    <tr>\n",
       "      <th>2</th>\n",
       "      <td>0</td>\n",
       "      <td>1</td>\n",
       "      <td>0</td>\n",
       "      <td>0.788</td>\n",
       "      <td>0.655</td>\n",
       "      <td>0.788</td>\n",
       "      <td>8</td>\n",
       "      <td>9</td>\n",
       "      <td>0</td>\n",
       "      <td>1</td>\n",
       "      <td>134</td>\n",
       "    </tr>\n",
       "    <tr>\n",
       "      <th>3</th>\n",
       "      <td>1</td>\n",
       "      <td>0</td>\n",
       "      <td>0</td>\n",
       "      <td>0.623</td>\n",
       "      <td>0.699</td>\n",
       "      <td>0.623</td>\n",
       "      <td>6</td>\n",
       "      <td>0</td>\n",
       "      <td>0</td>\n",
       "      <td>1</td>\n",
       "      <td>143</td>\n",
       "    </tr>\n",
       "    <tr>\n",
       "      <th>4</th>\n",
       "      <td>0</td>\n",
       "      <td>1</td>\n",
       "      <td>2</td>\n",
       "      <td>0.951</td>\n",
       "      <td>0.704</td>\n",
       "      <td>0.951</td>\n",
       "      <td>8</td>\n",
       "      <td>4</td>\n",
       "      <td>2</td>\n",
       "      <td>1</td>\n",
       "      <td>390</td>\n",
       "    </tr>\n",
       "  </tbody>\n",
       "</table>\n",
       "</div>"
      ],
      "text/plain": [
       "   continue_drop  gender  caste  mathematics_marks  english_marks  \\\n",
       "0              0       1      0              0.393          0.338   \n",
       "1              0       1      2              0.745          0.645   \n",
       "2              0       1      0              0.788          0.655   \n",
       "3              1       0      0              0.623          0.699   \n",
       "4              0       1      2              0.951          0.704   \n",
       "\n",
       "   science_marks  science_teacher  languages_teacher  guardian  internet  \\\n",
       "0          0.393                2                  2         2         1   \n",
       "1          0.745                4                  3         0         1   \n",
       "2          0.788                8                  9         0         1   \n",
       "3          0.623                6                  0         0         1   \n",
       "4          0.951                8                  4         2         1   \n",
       "\n",
       "   total_students  \n",
       "0             397  \n",
       "1              57  \n",
       "2             134  \n",
       "3             143  \n",
       "4             390  "
      ]
     },
     "execution_count": 117,
     "metadata": {},
     "output_type": "execute_result"
    }
   ],
   "source": [
    "# let see some of our data again \n",
    "data.head() "
   ]
  },
  {
   "cell_type": "markdown",
   "metadata": {},
   "source": [
    "In continue_drop column : 0 represent continue and 1 represent drop "
   ]
  },
  {
   "cell_type": "code",
   "execution_count": 118,
   "metadata": {
    "ExecuteTime": {
     "end_time": "2019-04-08T07:01:05.278607Z",
     "start_time": "2019-04-08T07:01:05.261007Z"
    }
   },
   "outputs": [
    {
     "name": "stdout",
     "output_type": "stream",
     "text": [
      "<class 'pandas.core.frame.DataFrame'>\n",
      "RangeIndex: 17190 entries, 0 to 17189\n",
      "Data columns (total 11 columns):\n",
      "continue_drop        17190 non-null int32\n",
      "gender               17190 non-null int32\n",
      "caste                17190 non-null int32\n",
      "mathematics_marks    17190 non-null float64\n",
      "english_marks        17190 non-null float64\n",
      "science_marks        17190 non-null float64\n",
      "science_teacher      17190 non-null int64\n",
      "languages_teacher    17190 non-null int64\n",
      "guardian             17190 non-null int32\n",
      "internet             17190 non-null int64\n",
      "total_students       17190 non-null int64\n",
      "dtypes: float64(3), int32(4), int64(4)\n",
      "memory usage: 1.2 MB\n"
     ]
    }
   ],
   "source": [
    "# check data information again \n",
    "data.info() "
   ]
  },
  {
   "cell_type": "markdown",
   "metadata": {},
   "source": [
    "### Check data Correlation "
   ]
  },
  {
   "cell_type": "code",
   "execution_count": 119,
   "metadata": {
    "ExecuteTime": {
     "end_time": "2019-04-08T07:01:11.300429Z",
     "start_time": "2019-04-08T07:01:10.419379Z"
    }
   },
   "outputs": [
    {
     "data": {
      "image/png": "[encoded data removed]",
      "text/plain": [
       "<Figure size 576x576 with 2 Axes>"
      ]
     },
     "metadata": {
      "needs_background": "light"
     },
     "output_type": "display_data"
    }
   ],
   "source": [
    "#create the correlation matrix heat map\n",
    "plt.figure(figsize=(8,8))\n",
    "\n",
    "plt.title(\"Data Correlation \", fontsize = 25)\n",
    "sns.heatmap(valid.corr(),linewidths=.1,cmap=\"YlGnBu\", annot=True)\n",
    "\n",
    "plt.yticks(rotation=0);  "
   ]
  },
  {
   "cell_type": "code",
   "execution_count": 120,
   "metadata": {
    "ExecuteTime": {
     "end_time": "2019-04-08T07:01:22.123978Z",
     "start_time": "2019-04-08T07:01:22.085377Z"
    }
   },
   "outputs": [
    {
     "data": {
      "text/html": [
       "<div>\n",
       "<style scoped>\n",
       "    .dataframe tbody tr th:only-of-type {\n",
       "        vertical-align: middle;\n",
       "    }\n",
       "\n",
       "    .dataframe tbody tr th {\n",
       "        vertical-align: top;\n",
       "    }\n",
       "\n",
       "    .dataframe thead th {\n",
       "        text-align: right;\n",
       "    }\n",
       "</style>\n",
       "<table border=\"1\" class=\"dataframe\">\n",
       "  <thead>\n",
       "    <tr style=\"text-align: right;\">\n",
       "      <th></th>\n",
       "      <th>continue_drop</th>\n",
       "    </tr>\n",
       "  </thead>\n",
       "  <tbody>\n",
       "    <tr>\n",
       "      <th>continue_drop</th>\n",
       "      <td>1.000000</td>\n",
       "    </tr>\n",
       "    <tr>\n",
       "      <th>science_teacher</th>\n",
       "      <td>0.128843</td>\n",
       "    </tr>\n",
       "    <tr>\n",
       "      <th>english_marks</th>\n",
       "      <td>0.071767</td>\n",
       "    </tr>\n",
       "    <tr>\n",
       "      <th>internet</th>\n",
       "      <td>0.062536</td>\n",
       "    </tr>\n",
       "    <tr>\n",
       "      <th>caste</th>\n",
       "      <td>0.047252</td>\n",
       "    </tr>\n",
       "    <tr>\n",
       "      <th>gender</th>\n",
       "      <td>0.039699</td>\n",
       "    </tr>\n",
       "    <tr>\n",
       "      <th>languages_teacher</th>\n",
       "      <td>0.024269</td>\n",
       "    </tr>\n",
       "    <tr>\n",
       "      <th>guardian</th>\n",
       "      <td>0.018096</td>\n",
       "    </tr>\n",
       "    <tr>\n",
       "      <th>science_marks</th>\n",
       "      <td>0.006385</td>\n",
       "    </tr>\n",
       "    <tr>\n",
       "      <th>mathematics_marks</th>\n",
       "      <td>0.006385</td>\n",
       "    </tr>\n",
       "    <tr>\n",
       "      <th>total_students</th>\n",
       "      <td>0.000713</td>\n",
       "    </tr>\n",
       "  </tbody>\n",
       "</table>\n",
       "</div>"
      ],
      "text/plain": [
       "                   continue_drop\n",
       "continue_drop           1.000000\n",
       "science_teacher         0.128843\n",
       "english_marks           0.071767\n",
       "internet                0.062536\n",
       "caste                   0.047252\n",
       "gender                  0.039699\n",
       "languages_teacher       0.024269\n",
       "guardian                0.018096\n",
       "science_marks           0.006385\n",
       "mathematics_marks       0.006385\n",
       "total_students          0.000713"
      ]
     },
     "execution_count": 120,
     "metadata": {},
     "output_type": "execute_result"
    }
   ],
   "source": [
    "# check correlation again continue_drop column \n",
    "pd.DataFrame(abs(data.corr()['continue_drop']).sort_values(ascending = False))  "
   ]
  },
  {
   "cell_type": "markdown",
   "metadata": {},
   "source": [
    "It clear that all features except total students have contribution. So we will delete the total students feature "
   ]
  },
  {
   "cell_type": "code",
   "execution_count": 121,
   "metadata": {
    "ExecuteTime": {
     "end_time": "2019-04-08T07:01:28.033950Z",
     "start_time": "2019-04-08T07:01:28.017349Z"
    }
   },
   "outputs": [],
   "source": [
    "data.drop(['total_students'], axis=1, inplace=True)    "
   ]
  },
  {
   "cell_type": "markdown",
   "metadata": {},
   "source": [
    "### Check distribution of class"
   ]
  },
  {
   "cell_type": "code",
   "execution_count": 122,
   "metadata": {
    "ExecuteTime": {
     "end_time": "2019-04-08T07:01:36.822943Z",
     "start_time": "2019-04-08T07:01:36.793342Z"
    }
   },
   "outputs": [
    {
     "data": {
      "text/plain": [
       "0    16377\n",
       "1      813\n",
       "Name: continue_drop, dtype: int64"
      ]
     },
     "execution_count": 122,
     "metadata": {},
     "output_type": "execute_result"
    }
   ],
   "source": [
    "data.continue_drop.value_counts()"
   ]
  },
  {
   "cell_type": "code",
   "execution_count": 123,
   "metadata": {
    "ExecuteTime": {
     "end_time": "2019-04-08T07:01:41.714468Z",
     "start_time": "2019-04-08T07:01:41.517060Z"
    }
   },
   "outputs": [
    {
     "data": {
      "image/png": "[encoded data removed]",
      "text/plain": [
       "<Figure size 432x288 with 1 Axes>"
      ]
     },
     "metadata": {
      "needs_background": "light"
     },
     "output_type": "display_data"
    }
   ],
   "source": [
    "# Visualize the continue_drop column \n",
    "sns.countplot(data = data, x = 'continue_drop') \n",
    "plt.title(\"Dropout Breakdown \\n (0 = continue , 1 = Drop) \", fontsize = 25)\n",
    "plt.xlabel(\"Continue Vs Drop\", fontsize = 15);\n",
    "plt.ylabel(\"Total Number of Students\", fontsize = 15);\n",
    "labels = ['Continue','Drop']\n",
    "val = [0,1] \n",
    "plt.xticks(val, labels); "
   ]
  },
  {
   "cell_type": "markdown",
   "metadata": {},
   "source": [
    "It is cleary from the distribution the class is [imbalanced]. Different techniques can be applied to solve this problem as discussed [here](https://www.jeremyjordan.me/imbalanced-data/). For this problem I will use SMOTEN technique implemented in [imbalance learn library](https://github.com/scikit-learn-contrib/imbalanced-learn). We will only apply this techniques on train set. However we will apply this technique to training samples and not on validation sample. Let first split the into training and validation."
   ]
  },
  {
   "cell_type": "code",
   "execution_count": 124,
   "metadata": {
    "ExecuteTime": {
     "end_time": "2019-04-08T07:02:04.945022Z",
     "start_time": "2019-04-08T07:02:04.920421Z"
    }
   },
   "outputs": [],
   "source": [
    "train, valid = np.split(data.sample(frac=1), [int(.9*len(data))])"
   ]
  },
  {
   "cell_type": "code",
   "execution_count": 125,
   "metadata": {
    "ExecuteTime": {
     "end_time": "2019-04-08T07:02:06.023053Z",
     "start_time": "2019-04-08T07:02:05.991853Z"
    }
   },
   "outputs": [
    {
     "data": {
      "text/plain": [
       "(15471, 10)"
      ]
     },
     "execution_count": 125,
     "metadata": {},
     "output_type": "execute_result"
    }
   ],
   "source": [
    "# check shape for train data\n",
    "train.shape "
   ]
  },
  {
   "cell_type": "code",
   "execution_count": 126,
   "metadata": {
    "ExecuteTime": {
     "end_time": "2019-04-08T07:02:12.946220Z",
     "start_time": "2019-04-08T07:02:12.755213Z"
    }
   },
   "outputs": [
    {
     "data": {
      "image/png": "[encoded data removed]",
      "text/plain": [
       "<Figure size 432x288 with 1 Axes>"
      ]
     },
     "metadata": {
      "needs_background": "light"
     },
     "output_type": "display_data"
    }
   ],
   "source": [
    "# visualize train data in continue_drop column \n",
    "sns.countplot(data = train, x = 'continue_drop') \n",
    "plt.title(\"Dropout Breakdown \\n (0 = continue , 1 = Drop) \", fontsize = 25)\n",
    "plt.xlabel(\"Continue Vs Drop\", fontsize = 15);\n",
    "plt.ylabel(\"Total Number of Students\", fontsize = 15);\n",
    "labels = ['Continue','Drop']\n",
    "val = [0,1] \n",
    "plt.xticks(val, labels);"
   ]
  },
  {
   "cell_type": "code",
   "execution_count": 127,
   "metadata": {
    "ExecuteTime": {
     "end_time": "2019-04-08T07:02:19.977587Z",
     "start_time": "2019-04-08T07:02:19.959987Z"
    }
   },
   "outputs": [
    {
     "data": {
      "text/plain": [
       "(1719, 10)"
      ]
     },
     "execution_count": 127,
     "metadata": {},
     "output_type": "execute_result"
    }
   ],
   "source": [
    "#check shape for valid data \n",
    "valid.shape   "
   ]
  },
  {
   "cell_type": "code",
   "execution_count": 92,
   "metadata": {
    "ExecuteTime": {
     "end_time": "2019-04-08T06:42:43.921170Z",
     "start_time": "2019-04-08T06:42:43.724961Z"
    }
   },
   "outputs": [
    {
     "data": {
      "image/png": "[encoded data removed]",
      "text/plain": [
       "<Figure size 432x288 with 1 Axes>"
      ]
     },
     "metadata": {
      "needs_background": "light"
     },
     "output_type": "display_data"
    }
   ],
   "source": [
    "# visualize valid data in continue_drop column \n",
    "sns.countplot(data = data, x = 'continue_drop') \n",
    "plt.title(\"Dropout Breakdown \\n (0 = continue , 1 = Drop) \", fontsize = 25)\n",
    "plt.xlabel(\"Continue Vs Drop\", fontsize = 15);\n",
    "plt.ylabel(\"Total Number of Students\", fontsize = 15);\n",
    "labels = ['Continue','Drop']\n",
    "val = [0,1] \n",
    "plt.xticks(val, labels);"
   ]
  },
  {
   "cell_type": "code",
   "execution_count": 128,
   "metadata": {
    "ExecuteTime": {
     "end_time": "2019-04-08T07:02:26.680357Z",
     "start_time": "2019-04-08T07:02:26.649157Z"
    }
   },
   "outputs": [],
   "source": [
    "# import important module to ge balanced data in train data \n",
    "from imblearn.over_sampling import SMOTE, ADASYN\n",
    "from imblearn.combine import SMOTEENN "
   ]
  },
  {
   "cell_type": "code",
   "execution_count": 129,
   "metadata": {
    "ExecuteTime": {
     "end_time": "2019-04-08T07:03:00.371030Z",
     "start_time": "2019-04-08T07:03:00.355430Z"
    }
   },
   "outputs": [],
   "source": [
    "# function to get balanced data in our train data\n",
    "def get_balanced_data(df):\n",
    "    y = df['continue_drop'].values\n",
    "    X = df[feature_columns].values\n",
    "    smote = SMOTEENN(random_state=0)\n",
    "    X, y = smote.fit_sample(X, y)    \n",
    "    return X, y     "
   ]
  },
  {
   "cell_type": "code",
   "execution_count": 130,
   "metadata": {
    "ExecuteTime": {
     "end_time": "2019-04-08T07:03:05.752070Z",
     "start_time": "2019-04-08T07:03:05.720870Z"
    }
   },
   "outputs": [],
   "source": [
    "feature_columns = ['gender', 'caste', 'mathematics_marks',\n",
    "       'english_marks', 'science_marks', 'science_teacher',\n",
    "       'languages_teacher', 'guardian', 'internet'] "
   ]
  },
  {
   "cell_type": "code",
   "execution_count": 131,
   "metadata": {
    "ExecuteTime": {
     "end_time": "2019-04-08T07:03:18.523096Z",
     "start_time": "2019-04-08T07:03:17.342477Z"
    }
   },
   "outputs": [],
   "source": [
    "X_train, y_train = get_balanced_data(train) "
   ]
  },
  {
   "cell_type": "code",
   "execution_count": 133,
   "metadata": {
    "ExecuteTime": {
     "end_time": "2019-04-08T07:05:55.057315Z",
     "start_time": "2019-04-08T07:05:55.026115Z"
    }
   },
   "outputs": [],
   "source": [
    "#convert into Dataframe\n",
    "X_train = pd.DataFrame(X_train, columns=feature_columns) \n",
    "\n",
    "y_train = pd.DataFrame(y_train, columns=[\"continue_drop\"])\n"
   ]
  },
  {
   "cell_type": "code",
   "execution_count": 134,
   "metadata": {
    "ExecuteTime": {
     "end_time": "2019-04-08T07:05:59.349366Z",
     "start_time": "2019-04-08T07:05:58.937756Z"
    }
   },
   "outputs": [],
   "source": [
    "# concat and save train data into the csv file \n",
    "results = pd.concat([X_train, y_train], axis=1)\n",
    "\n",
    "results.to_csv(\"../data/data_for_train.csv\", index=False) "
   ]
  },
  {
   "cell_type": "code",
   "execution_count": 135,
   "metadata": {
    "ExecuteTime": {
     "end_time": "2019-04-08T07:06:29.704202Z",
     "start_time": "2019-04-08T07:06:29.500793Z"
    }
   },
   "outputs": [
    {
     "data": {
      "image/png": "[encoded data removed]",
      "text/plain": [
       "<Figure size 432x288 with 1 Axes>"
      ]
     },
     "metadata": {
      "needs_background": "light"
     },
     "output_type": "display_data"
    }
   ],
   "source": [
    "# Let's visualize train data again \n",
    "sns.countplot(data = results, x = 'continue_drop') \n",
    "plt.title(\"Dropout Breakdown \\n (0 = continue , 1 = Drop) \", fontsize = 25)\n",
    "plt.xlabel(\"Continue Vs Drop\", fontsize = 15);\n",
    "plt.ylabel(\"Total Number of Students\", fontsize = 15);\n",
    "labels = ['Continue','Drop']\n",
    "val = [0,1] \n",
    "plt.xticks(val, labels);"
   ]
  },
  {
   "cell_type": "markdown",
   "metadata": {},
   "source": [
    "Our train data is now balanced "
   ]
  },
  {
   "cell_type": "code",
   "execution_count": 136,
   "metadata": {
    "ExecuteTime": {
     "end_time": "2019-04-08T07:06:47.900003Z",
     "start_time": "2019-04-08T07:06:47.863402Z"
    }
   },
   "outputs": [
    {
     "data": {
      "text/html": [
       "<div>\n",
       "<style scoped>\n",
       "    .dataframe tbody tr th:only-of-type {\n",
       "        vertical-align: middle;\n",
       "    }\n",
       "\n",
       "    .dataframe tbody tr th {\n",
       "        vertical-align: top;\n",
       "    }\n",
       "\n",
       "    .dataframe thead th {\n",
       "        text-align: right;\n",
       "    }\n",
       "</style>\n",
       "<table border=\"1\" class=\"dataframe\">\n",
       "  <thead>\n",
       "    <tr style=\"text-align: right;\">\n",
       "      <th></th>\n",
       "      <th>gender</th>\n",
       "      <th>caste</th>\n",
       "      <th>mathematics_marks</th>\n",
       "      <th>english_marks</th>\n",
       "      <th>science_marks</th>\n",
       "      <th>science_teacher</th>\n",
       "      <th>languages_teacher</th>\n",
       "      <th>guardian</th>\n",
       "      <th>internet</th>\n",
       "      <th>continue_drop</th>\n",
       "    </tr>\n",
       "  </thead>\n",
       "  <tbody>\n",
       "    <tr>\n",
       "      <th>10767</th>\n",
       "      <td>0</td>\n",
       "      <td>0</td>\n",
       "      <td>0.594</td>\n",
       "      <td>0.511</td>\n",
       "      <td>0.594</td>\n",
       "      <td>6</td>\n",
       "      <td>7</td>\n",
       "      <td>0</td>\n",
       "      <td>1</td>\n",
       "      <td>1</td>\n",
       "    </tr>\n",
       "    <tr>\n",
       "      <th>9280</th>\n",
       "      <td>1</td>\n",
       "      <td>2</td>\n",
       "      <td>0.523</td>\n",
       "      <td>0.522</td>\n",
       "      <td>0.523</td>\n",
       "      <td>7</td>\n",
       "      <td>10</td>\n",
       "      <td>2</td>\n",
       "      <td>1</td>\n",
       "      <td>0</td>\n",
       "    </tr>\n",
       "    <tr>\n",
       "      <th>7909</th>\n",
       "      <td>0</td>\n",
       "      <td>0</td>\n",
       "      <td>0.408</td>\n",
       "      <td>0.798</td>\n",
       "      <td>0.408</td>\n",
       "      <td>9</td>\n",
       "      <td>5</td>\n",
       "      <td>2</td>\n",
       "      <td>1</td>\n",
       "      <td>1</td>\n",
       "    </tr>\n",
       "    <tr>\n",
       "      <th>3371</th>\n",
       "      <td>1</td>\n",
       "      <td>0</td>\n",
       "      <td>0.781</td>\n",
       "      <td>0.474</td>\n",
       "      <td>0.781</td>\n",
       "      <td>7</td>\n",
       "      <td>7</td>\n",
       "      <td>2</td>\n",
       "      <td>0</td>\n",
       "      <td>0</td>\n",
       "    </tr>\n",
       "    <tr>\n",
       "      <th>12089</th>\n",
       "      <td>1</td>\n",
       "      <td>3</td>\n",
       "      <td>0.749</td>\n",
       "      <td>1.010</td>\n",
       "      <td>0.749</td>\n",
       "      <td>4</td>\n",
       "      <td>6</td>\n",
       "      <td>0</td>\n",
       "      <td>1</td>\n",
       "      <td>1</td>\n",
       "    </tr>\n",
       "  </tbody>\n",
       "</table>\n",
       "</div>"
      ],
      "text/plain": [
       "       gender  caste  mathematics_marks  english_marks  science_marks  \\\n",
       "10767       0      0              0.594          0.511          0.594   \n",
       "9280        1      2              0.523          0.522          0.523   \n",
       "7909        0      0              0.408          0.798          0.408   \n",
       "3371        1      0              0.781          0.474          0.781   \n",
       "12089       1      3              0.749          1.010          0.749   \n",
       "\n",
       "       science_teacher  languages_teacher  guardian  internet  continue_drop  \n",
       "10767                6                  7         0         1              1  \n",
       "9280                 7                 10         2         1              0  \n",
       "7909                 9                  5         2         1              1  \n",
       "3371                 7                  7         2         0              0  \n",
       "12089                4                  6         0         1              1  "
      ]
     },
     "execution_count": 136,
     "metadata": {},
     "output_type": "execute_result"
    }
   ],
   "source": [
    "#rearange columns in valid data \n",
    "feature_columns = ['gender', 'caste', 'mathematics_marks',\n",
    "       'english_marks', 'science_marks', 'science_teacher',\n",
    "       'languages_teacher', 'guardian', 'internet','continue_drop']\n",
    "\n",
    "valid = valid[feature_columns]\n",
    "valid.head() "
   ]
  },
  {
   "cell_type": "code",
   "execution_count": 137,
   "metadata": {
    "ExecuteTime": {
     "end_time": "2019-04-08T07:07:03.387607Z",
     "start_time": "2019-04-08T07:07:03.349005Z"
    }
   },
   "outputs": [],
   "source": [
    "# save our valid data into csv file \n",
    "valid.to_csv(\"../data/data_for_validation.csv\", index=False) "
   ]
  },
  {
   "cell_type": "code",
   "execution_count": null,
   "metadata": {},
   "outputs": [],
   "source": []
  },
  {
   "cell_type": "code",
   "execution_count": 144,
   "metadata": {
    "ExecuteTime": {
     "end_time": "2019-04-08T07:17:17.173478Z",
     "start_time": "2019-04-08T07:17:17.153477Z"
    }
   },
   "outputs": [],
   "source": []
  },
  {
   "cell_type": "code",
   "execution_count": 139,
   "metadata": {
    "ExecuteTime": {
     "end_time": "2019-04-08T07:15:31.606689Z",
     "start_time": "2019-04-08T07:15:31.568088Z"
    }
   },
   "outputs": [],
   "source": [
    "df = load_test_data(\"../data/test.csv\") "
   ]
  }
 ],
 "metadata": {
  "hide_input": false,
  "kernelspec": {
   "display_name": "Python 3",
   "language": "python",
   "name": "python3"
  },
  "language_info": {
   "codemirror_mode": {
    "name": "ipython",
    "version": 3
   },
   "file_extension": ".py",
   "mimetype": "text/x-python",
   "name": "python",
   "nbconvert_exporter": "python",
   "pygments_lexer": "ipython3",
   "version": "3.7.1"
  },
  "latex_envs": {
   "LaTeX_envs_menu_present": true,
   "autoclose": false,
   "autocomplete": true,
   "bibliofile": "biblio.bib",
   "cite_by": "apalike",
   "current_citInitial": 1,
   "eqLabelWithNumbers": true,
   "eqNumInitial": 1,
   "hotkeys": {
    "equation": "Ctrl-E",
    "itemize": "Ctrl-I"
   },
   "labels_anchors": false,
   "latex_user_defs": false,
   "report_style_numbering": false,
   "user_envs_cfg": false
  },
  "toc": {
   "base_numbering": 1,
   "nav_menu": {},
   "number_sections": true,
   "sideBar": true,
   "skip_h1_title": false,
   "title_cell": "Table of Contents",
   "title_sidebar": "Contents",
   "toc_cell": false,
   "toc_position": {},
   "toc_section_display": true,
   "toc_window_display": false
  },
  "varInspector": {
   "cols": {
    "lenName": 16,
    "lenType": 16,
    "lenVar": 40
   },
   "kernels_config": {
    "python": {
     "delete_cmd_postfix": "",
     "delete_cmd_prefix": "del ",
     "library": "var_list.py",
     "varRefreshCmd": "print(var_dic_list())"
    },
    "r": {
     "delete_cmd_postfix": ") ",
     "delete_cmd_prefix": "rm(",
     "library": "var_list.r",
     "varRefreshCmd": "cat(var_dic_list()) "
    }
   },
   "types_to_exclude": [
    "module",
    "function",
    "builtin_function_or_method",
    "instance",
    "_Feature"
   ],
   "window_display": false
  }
 },
 "nbformat": 4,
 "nbformat_minor": 2
}
